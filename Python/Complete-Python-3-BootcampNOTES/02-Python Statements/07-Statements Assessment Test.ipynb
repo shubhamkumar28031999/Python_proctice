{
 "cells": [
  {
   "cell_type": "markdown",
   "metadata": {
    "collapsed": true
   },
   "source": [
    "# Statements Assessment Test\n",
    "Let's test your knowledge!"
   ]
  },
  {
   "cell_type": "markdown",
   "metadata": {},
   "source": [
    "_____\n",
    "**Use <code>for</code>, .split(), and <code>if</code> to create a Statement that will print out words that start with 's':**"
   ]
  },
  {
   "cell_type": "code",
   "execution_count": 258,
   "metadata": {},
   "outputs": [],
   "source": [
    "st = 'Sam Print only the words that start with s in this sentence'"
   ]
  },
  {
   "cell_type": "code",
   "execution_count": 260,
   "metadata": {},
   "outputs": [
    {
     "name": "stdout",
     "output_type": "stream",
     "text": [
      "Sam\n",
      "start\n",
      "s\n",
      "sentence\n"
     ]
    }
   ],
   "source": [
    "\n",
    "for kool in st.split():\n",
    "    if kool[0].lower() == 's':\n",
    "        print(kool)"
   ]
  },
  {
   "cell_type": "markdown",
   "metadata": {},
   "source": [
    "______\n",
    "**Use range() to print all the even numbers from 0 to 10.**"
   ]
  },
  {
   "cell_type": "code",
   "execution_count": 220,
   "metadata": {},
   "outputs": [
    {
     "name": "stdout",
     "output_type": "stream",
     "text": [
      "0\n",
      "2\n",
      "4\n",
      "6\n",
      "8\n"
     ]
    }
   ],
   "source": [
    "for num in range(0,9,2):\n",
    "     \n",
    "        print(num)"
   ]
  },
  {
   "cell_type": "markdown",
   "metadata": {},
   "source": [
    "___\n",
    "**Use a List Comprehension to create a list of all numbers between 1 and 50 that are divisible by 3.**"
   ]
  },
  {
   "cell_type": "code",
   "execution_count": 117,
   "metadata": {},
   "outputs": [],
   "source": [
    "mylist = [x for x in range(0,49) if x%3==0]\n"
   ]
  },
  {
   "cell_type": "code",
   "execution_count": 118,
   "metadata": {},
   "outputs": [
    {
     "data": {
      "text/plain": [
       "[0, 3, 6, 9, 12, 15, 18, 21, 24, 27, 30, 33, 36, 39, 42, 45, 48]"
      ]
     },
     "execution_count": 118,
     "metadata": {},
     "output_type": "execute_result"
    }
   ],
   "source": [
    "mylist"
   ]
  },
  {
   "cell_type": "markdown",
   "metadata": {},
   "source": [
    "_____\n",
    "**Go through the string below and if the length of a word is even print \"even!\"**"
   ]
  },
  {
   "cell_type": "code",
   "execution_count": null,
   "metadata": {},
   "outputs": [],
   "source": [
    "st = 'Print every word in this sentence that has an even number of letters'"
   ]
  },
  {
   "cell_type": "code",
   "execution_count": 226,
   "metadata": {},
   "outputs": [
    {
     "name": "stdout",
     "output_type": "stream",
     "text": [
      "only<-- is  even in length\n",
      "that<-- is  even in length\n",
      "with<-- is  even in length\n",
      "in<-- is  even in length\n",
      "this<-- is  even in length\n",
      "sentence<-- is  even in length\n"
     ]
    }
   ],
   "source": [
    "for word in st.split():\n",
    "    if len(word)%2==0:\n",
    "        print(word+ '<-- is  even in length')"
   ]
  },
  {
   "cell_type": "markdown",
   "metadata": {},
   "source": [
    "____\n",
    "**Write a program that prints the integers from 1 to 100. But for multiples of three print \"Fizz\" instead of the number, and for the multiples of five print \"Buzz\". For numbers which are multiples of both three and five print \"FizzBuzz\".**"
   ]
  },
  {
   "cell_type": "code",
   "execution_count": 201,
   "metadata": {},
   "outputs": [
    {
     "name": "stdout",
     "output_type": "stream",
     "text": [
      " \n",
      " \n",
      "Fizz\n",
      " \n",
      "Buzz\n",
      "Fizz\n",
      " \n",
      " \n",
      "Fizz\n",
      "Buzz\n",
      " \n",
      "Fizz\n",
      " \n",
      " \n",
      "FizzBuzz\n",
      " \n",
      " \n",
      "Fizz\n",
      " \n",
      "Buzz\n",
      "Fizz\n",
      " \n",
      " \n",
      "Fizz\n",
      "Buzz\n",
      " \n",
      "Fizz\n",
      " \n",
      " \n",
      "FizzBuzz\n",
      " \n",
      " \n",
      "Fizz\n",
      " \n",
      "Buzz\n",
      "Fizz\n",
      " \n",
      " \n",
      "Fizz\n",
      "Buzz\n",
      " \n",
      "Fizz\n",
      " \n",
      " \n",
      "FizzBuzz\n",
      " \n",
      " \n",
      "Fizz\n",
      " \n",
      "Buzz\n",
      "Fizz\n",
      " \n",
      " \n",
      "Fizz\n",
      "Buzz\n",
      " \n",
      "Fizz\n",
      " \n",
      " \n",
      "FizzBuzz\n",
      " \n",
      " \n",
      "Fizz\n",
      " \n",
      "Buzz\n",
      "Fizz\n",
      " \n",
      " \n",
      "Fizz\n",
      "Buzz\n",
      " \n",
      "Fizz\n",
      " \n",
      " \n",
      "FizzBuzz\n",
      " \n",
      " \n",
      "Fizz\n",
      " \n",
      "Buzz\n",
      "Fizz\n",
      " \n",
      " \n",
      "Fizz\n",
      "Buzz\n",
      " \n",
      "Fizz\n",
      " \n",
      " \n",
      "FizzBuzz\n",
      " \n",
      " \n",
      "Fizz\n",
      " \n",
      "Buzz\n",
      "Fizz\n",
      " \n",
      " \n",
      "Fizz\n"
     ]
    }
   ],
   "source": [
    "for x in range(1,100):\n",
    "    if x%3 == 0 and x%5==0:\n",
    "        print('FizzBuzz')\n",
    "    elif x%5==0:\n",
    "        print('Buzz')\n",
    "    elif x%3==0:\n",
    "        print('Fizz')\n",
    "    else:\n",
    "        print(' ')\n",
    "        "
   ]
  },
  {
   "cell_type": "markdown",
   "metadata": {},
   "source": [
    "____\n",
    "**Use List Comprehension to create a list of the first letters of every word in the string below:**"
   ]
  },
  {
   "cell_type": "code",
   "execution_count": 228,
   "metadata": {},
   "outputs": [],
   "source": [
    "st = 'Create a list of the first letters of every word in this string'"
   ]
  },
  {
   "cell_type": "code",
   "execution_count": 251,
   "metadata": {},
   "outputs": [
    {
     "data": {
      "text/plain": [
       "['C', 'a', 'l', 'o', 't', 'f', 'l', 'o', 'e', 'w', 'i', 't', 's']"
      ]
     },
     "execution_count": 251,
     "metadata": {},
     "output_type": "execute_result"
    }
   ],
   "source": [
    "\n",
    "[word[0] for word in st.split()]\n"
   ]
  },
  {
   "cell_type": "code",
   "execution_count": 239,
   "metadata": {},
   "outputs": [
    {
     "data": {
      "text/plain": [
       "['C', 'a', 'l', 'o', 't', 'f', 'l', 'o', 'e', 'w', 'i', 't', 's']"
      ]
     },
     "execution_count": 239,
     "metadata": {},
     "output_type": "execute_result"
    }
   ],
   "source": [
    "\n",
    "list"
   ]
  },
  {
   "cell_type": "markdown",
   "metadata": {},
   "source": [
    "### Great Job!"
   ]
  }
 ],
 "metadata": {
  "kernelspec": {
   "display_name": "Python 3",
   "language": "python",
   "name": "python3"
  },
  "language_info": {
   "codemirror_mode": {
    "name": "ipython",
    "version": 3
   },
   "file_extension": ".py",
   "mimetype": "text/x-python",
   "name": "python",
   "nbconvert_exporter": "python",
   "pygments_lexer": "ipython3",
   "version": "3.7.3"
  }
 },
 "nbformat": 4,
 "nbformat_minor": 1
}
